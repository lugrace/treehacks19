{
 "cells": [
  {
   "cell_type": "code",
   "execution_count": 102,
   "metadata": {},
   "outputs": [],
   "source": [
    "import sys\n",
    "import os\n",
    "import csv\n",
    "\n",
    "import pyrebase\n",
    "\n",
    "config = {\n",
    "  \"apiKey\": \"R0j6JfG91yeNdN1QZDPufpClbAMB5STTx2X4Z3L1\",\n",
    "  \"authDomain\": \"treehacks-3750e.firebaseapp.com\",\n",
    "  \"databaseURL\": \"https://treehacks-3750e.firebaseio.com\",\n",
    "  \"storageBucket\": \"treehacks-3750e.appspot.com\",\n",
    "  \"serviceAccount\": \"firebase_cred.json\"\n",
    "}\n",
    "\n",
    "firebase = pyrebase.initialize_app(config)\n",
    "\n",
    "db = firebase.database()"
   ]
  },
  {
   "cell_type": "code",
   "execution_count": 112,
   "metadata": {},
   "outputs": [
    {
     "name": "stdout",
     "output_type": "stream",
     "text": [
      "rice\n",
      "0\n",
      "4\n",
      "potatoes\n",
      "4\n",
      "0.30000000000000004\n",
      "[4.3, 2005]\n"
     ]
    }
   ],
   "source": [
    "list_of_words = ['rice', 'potato']\n",
    "\n",
    "list_of_words = [x.lower() for x in list_of_words]\n",
    "co2 = 0;\n",
    "water = 0;\n",
    "\n",
    "with open('dictionary.csv', newline='', encoding='utf-8', errors='ignore') as csvfile:\n",
    "        data = list(csv.reader(csvfile))\n",
    "        \n",
    "new_data = [];\n",
    "for x in data:\n",
    "    temp = [];\n",
    "    for j in x:\n",
    "        if (j != ''):\n",
    "            temp.append(j.lower())\n",
    "    new_data.append(temp)\n",
    "    \n",
    "data = new_data\n",
    "\n",
    "for word in list_of_words:\n",
    "    for x in data:\n",
    "        if word in x:\n",
    "            ind = data.index(x)\n",
    "            category = data[ind][0]\n",
    "            print(category)\n",
    "#              get associated from firebase\n",
    "#             print(co2)\n",
    "            ghg = db.child(category).child(\"GHG\").get().val()\n",
    "#             print(ghg)\n",
    "            h2o = db.child(category).child(\"water\").get().val()\n",
    "            co2 = co2 + ghg\n",
    "            water = water + h2o\n",
    "            break;\n",
    "print([co2, water])"
   ]
  },
  {
   "cell_type": "code",
   "execution_count": null,
   "metadata": {},
   "outputs": [],
   "source": []
  }
 ],
 "metadata": {
  "kernelspec": {
   "display_name": "Python 3",
   "language": "python",
   "name": "python3"
  },
  "language_info": {
   "codemirror_mode": {
    "name": "ipython",
    "version": 3
   },
   "file_extension": ".py",
   "mimetype": "text/x-python",
   "name": "python",
   "nbconvert_exporter": "python",
   "pygments_lexer": "ipython3",
   "version": "3.6.7"
  }
 },
 "nbformat": 4,
 "nbformat_minor": 2
}
